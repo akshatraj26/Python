{
 "cells": [
  {
   "cell_type": "code",
   "execution_count": 5,
   "id": "07737acb-d5f9-47de-b80a-f75d8ab73b8e",
   "metadata": {},
   "outputs": [],
   "source": [
    "def factorize(n, i):\n",
    "    if i <= n:\n",
    "        if n % i == 0:\n",
    "            print(i, end=',')\n",
    "            n = n //i\n",
    "        else:\n",
    "            i += 1\n",
    "        factorize(n, i)\n",
    "\n"
   ]
  },
  {
   "cell_type": "code",
   "execution_count": 6,
   "id": "f049fdbe-b69a-4ded-ac42-13206d25ca17",
   "metadata": {},
   "outputs": [
    {
     "name": "stdout",
     "output_type": "stream",
     "text": [
      "3,3,5,"
     ]
    }
   ],
   "source": [
    "factorize(45, 2)"
   ]
  },
  {
   "cell_type": "code",
   "execution_count": 8,
   "id": "449655d3-1a4d-4be8-b295-edd1736b6c4c",
   "metadata": {},
   "outputs": [
    {
     "data": {
      "text/plain": [
       "True"
      ]
     },
     "execution_count": 8,
     "metadata": {},
     "output_type": "execute_result"
    }
   ],
   "source": [
    "45, 2\n",
    "2 < 45"
   ]
  },
  {
   "cell_type": "code",
   "execution_count": 9,
   "id": "9ae41969-41d2-466c-b76b-0cfb47827e53",
   "metadata": {},
   "outputs": [
    {
     "data": {
      "text/plain": [
       "False"
      ]
     },
     "execution_count": 9,
     "metadata": {},
     "output_type": "execute_result"
    }
   ],
   "source": [
    "45 % 2 ==0"
   ]
  },
  {
   "cell_type": "code",
   "execution_count": 10,
   "id": "895b92a6-8d28-4665-b3fa-9c564490e6ab",
   "metadata": {},
   "outputs": [
    {
     "data": {
      "text/plain": [
       "True"
      ]
     },
     "execution_count": 10,
     "metadata": {},
     "output_type": "execute_result"
    }
   ],
   "source": [
    "45% 3==0"
   ]
  },
  {
   "cell_type": "code",
   "execution_count": 11,
   "id": "7a5873f4-1921-4fc1-ac9f-74f9a6f4a364",
   "metadata": {},
   "outputs": [
    {
     "data": {
      "text/plain": [
       "(3, 15)"
      ]
     },
     "execution_count": 11,
     "metadata": {},
     "output_type": "execute_result"
    }
   ],
   "source": [
    "3, 15"
   ]
  },
  {
   "cell_type": "code",
   "execution_count": 12,
   "id": "dc420c09-6c3e-4cb9-8ed3-efa4b81bc746",
   "metadata": {},
   "outputs": [
    {
     "data": {
      "text/plain": [
       "True"
      ]
     },
     "execution_count": 12,
     "metadata": {},
     "output_type": "execute_result"
    }
   ],
   "source": [
    "3 < 15"
   ]
  },
  {
   "cell_type": "code",
   "execution_count": 13,
   "id": "d80736d3-e52e-4e70-9268-8aab2b19f89e",
   "metadata": {},
   "outputs": [
    {
     "data": {
      "text/plain": [
       "True"
      ]
     },
     "execution_count": 13,
     "metadata": {},
     "output_type": "execute_result"
    }
   ],
   "source": [
    "15 % 3 == 0"
   ]
  },
  {
   "cell_type": "code",
   "execution_count": 18,
   "id": "8b38147b-02b6-4446-a91d-b7284a1ff7a1",
   "metadata": {},
   "outputs": [],
   "source": [
    "i, n = 3, 5"
   ]
  },
  {
   "cell_type": "code",
   "execution_count": 15,
   "id": "fdb6f2e8-c421-413d-8e22-a5303093b217",
   "metadata": {},
   "outputs": [
    {
     "data": {
      "text/plain": [
       "True"
      ]
     },
     "execution_count": 15,
     "metadata": {},
     "output_type": "execute_result"
    }
   ],
   "source": [
    "3 <= 5"
   ]
  },
  {
   "cell_type": "code",
   "execution_count": 16,
   "id": "0da97cb7-2dd2-44b1-988a-fa82be3e7a14",
   "metadata": {},
   "outputs": [
    {
     "data": {
      "text/plain": [
       "False"
      ]
     },
     "execution_count": 16,
     "metadata": {},
     "output_type": "execute_result"
    }
   ],
   "source": [
    "5 % 3 == 0"
   ]
  },
  {
   "cell_type": "code",
   "execution_count": 17,
   "id": "41d0ce8f-e03a-40b1-a4c1-169d5ecbf808",
   "metadata": {},
   "outputs": [],
   "source": [
    "i, n = 4, 5"
   ]
  },
  {
   "cell_type": "code",
   "execution_count": 31,
   "id": "55f3b934-e111-43f6-a3dd-f2ff0fbb4d49",
   "metadata": {},
   "outputs": [
    {
     "name": "stdout",
     "output_type": "stream",
     "text": [
      "101101"
     ]
    }
   ],
   "source": [
    "import sys\n",
    "\n",
    "def dec_to_binary(n):\n",
    "    r = n % 2\n",
    "    # print(r)\n",
    "    n = n // 2\n",
    "    # print(n)\n",
    "    if n != 0:\n",
    "        dec_to_binary(n)\n",
    "    print(r, end='')\n",
    "\n",
    "sys.setrecursionlimit(10**6)\n",
    "dec_to_binary(45)"
   ]
  },
  {
   "cell_type": "code",
   "execution_count": 29,
   "id": "c6aaefad-cfc4-4cb9-b940-0a8f512cb737",
   "metadata": {},
   "outputs": [
    {
     "data": {
      "text/plain": [
       "(0, 28, 0, 14, 0, 7, 1, 3, 1, 1)"
      ]
     },
     "execution_count": 29,
     "metadata": {},
     "output_type": "execute_result"
    }
   ],
   "source": [
    "56 % 2, 56 // 2, 28  % 2, 28 // 2, 14 % 2, 14 // 2, 7 % 2, 7 // 2, 3 % 2, 3 // 2, "
   ]
  },
  {
   "cell_type": "code",
   "execution_count": 21,
   "id": "750efe30-dbf9-4bbc-99e0-5dc2a13446f7",
   "metadata": {},
   "outputs": [
    {
     "data": {
      "text/plain": [
       "28"
      ]
     },
     "execution_count": 21,
     "metadata": {},
     "output_type": "execute_result"
    }
   ],
   "source": []
  },
  {
   "cell_type": "code",
   "execution_count": 22,
   "id": "7a844df5-327e-4c87-8efc-03b0e93bd04b",
   "metadata": {},
   "outputs": [
    {
     "data": {
      "text/plain": [
       "0"
      ]
     },
     "execution_count": 22,
     "metadata": {},
     "output_type": "execute_result"
    }
   ],
   "source": []
  },
  {
   "cell_type": "code",
   "execution_count": 23,
   "id": "61938587-fa6f-4465-8dbd-c0bc3d6b6bdb",
   "metadata": {},
   "outputs": [
    {
     "data": {
      "text/plain": [
       "14"
      ]
     },
     "execution_count": 23,
     "metadata": {},
     "output_type": "execute_result"
    }
   ],
   "source": []
  },
  {
   "cell_type": "code",
   "execution_count": 24,
   "id": "1559c93f-44a6-43cd-a757-2e6fe1e1fb05",
   "metadata": {},
   "outputs": [
    {
     "data": {
      "text/plain": [
       "0"
      ]
     },
     "execution_count": 24,
     "metadata": {},
     "output_type": "execute_result"
    }
   ],
   "source": []
  },
  {
   "cell_type": "code",
   "execution_count": 25,
   "id": "2489ce2b-c831-4870-a280-e5228f2a3b0a",
   "metadata": {},
   "outputs": [
    {
     "data": {
      "text/plain": [
       "7"
      ]
     },
     "execution_count": 25,
     "metadata": {},
     "output_type": "execute_result"
    }
   ],
   "source": []
  },
  {
   "cell_type": "code",
   "execution_count": 26,
   "id": "8d950719-46f0-4e69-9fed-08adf202daad",
   "metadata": {},
   "outputs": [
    {
     "data": {
      "text/plain": [
       "1"
      ]
     },
     "execution_count": 26,
     "metadata": {},
     "output_type": "execute_result"
    }
   ],
   "source": []
  },
  {
   "cell_type": "code",
   "execution_count": 27,
   "id": "16a9dcae-9830-4b92-b3cc-79a9389229eb",
   "metadata": {},
   "outputs": [
    {
     "data": {
      "text/plain": [
       "0"
      ]
     },
     "execution_count": 27,
     "metadata": {},
     "output_type": "execute_result"
    }
   ],
   "source": []
  },
  {
   "cell_type": "code",
   "execution_count": null,
   "id": "9f1c4a91-522d-4f64-b886-1fd65b87b01a",
   "metadata": {},
   "outputs": [],
   "source": []
  }
 ],
 "metadata": {
  "kernelspec": {
   "display_name": "Python 3 (ipykernel)",
   "language": "python",
   "name": "python3"
  },
  "language_info": {
   "codemirror_mode": {
    "name": "ipython",
    "version": 3
   },
   "file_extension": ".py",
   "mimetype": "text/x-python",
   "name": "python",
   "nbconvert_exporter": "python",
   "pygments_lexer": "ipython3",
   "version": "3.11.5"
  }
 },
 "nbformat": 4,
 "nbformat_minor": 5
}
