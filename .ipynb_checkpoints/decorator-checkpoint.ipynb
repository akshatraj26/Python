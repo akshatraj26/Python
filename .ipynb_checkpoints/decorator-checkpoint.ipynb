{
 "cells": [
  {
   "cell_type": "code",
   "execution_count": 16,
   "id": "57169c44-6f68-4917-9e9e-43d31ef1c314",
   "metadata": {},
   "outputs": [],
   "source": [
    "def Greetings():\n",
    "    return 'Hey there I am Akshat'"
   ]
  },
  {
   "cell_type": "code",
   "execution_count": 17,
   "id": "24eba212-acb3-4518-9750-a6bf4a57e003",
   "metadata": {},
   "outputs": [
    {
     "data": {
      "text/plain": [
       "'Hey there I am Akshat'"
      ]
     },
     "execution_count": 17,
     "metadata": {},
     "output_type": "execute_result"
    }
   ],
   "source": [
    "wel = Greetings()\n",
    "wel"
   ]
  },
  {
   "cell_type": "code",
   "execution_count": 18,
   "id": "ea10f82f-7448-4dda-a6d8-bc1808ca1b2e",
   "metadata": {},
   "outputs": [],
   "source": [
    "del Greetings"
   ]
  },
  {
   "cell_type": "markdown",
   "id": "99c1a2f9-003f-4f1d-a291-c3766af1ac05",
   "metadata": {},
   "source": [
    "After deleting the `Gretings` function we can still use object but not function"
   ]
  },
  {
   "cell_type": "code",
   "execution_count": 19,
   "id": "e847aafe-ea9a-441c-b8eb-89d417cb095d",
   "metadata": {},
   "outputs": [
    {
     "data": {
      "text/plain": [
       "'Hey there I am Akshat'"
      ]
     },
     "execution_count": 19,
     "metadata": {},
     "output_type": "execute_result"
    }
   ],
   "source": [
    "wel"
   ]
  },
  {
   "cell_type": "code",
   "execution_count": 20,
   "id": "e9e41308-c909-4218-8863-5092837acb1c",
   "metadata": {},
   "outputs": [
    {
     "ename": "NameError",
     "evalue": "name 'Greetings' is not defined",
     "output_type": "error",
     "traceback": [
      "\u001b[1;31m---------------------------------------------------------------------------\u001b[0m",
      "\u001b[1;31mNameError\u001b[0m                                 Traceback (most recent call last)",
      "Cell \u001b[1;32mIn[20], line 1\u001b[0m\n\u001b[1;32m----> 1\u001b[0m \u001b[43mGreetings\u001b[49m()\n",
      "\u001b[1;31mNameError\u001b[0m: name 'Greetings' is not defined"
     ]
    }
   ],
   "source": [
    "Greetings()"
   ]
  },
  {
   "cell_type": "markdown",
   "id": "d9b1a8c2-b9e1-4c22-9b2e-c8cfc2ca5117",
   "metadata": {},
   "source": [
    "### Closures"
   ]
  },
  {
   "cell_type": "code",
   "execution_count": 21,
   "id": "e464c6b2-ad3f-4bc4-bf62-f2d9d6f80858",
   "metadata": {},
   "outputs": [],
   "source": [
    "def Greetings(msg):\n",
    "\n",
    "    def sub_gretings():\n",
    "        print(\"I am Akshat Raj.\")\n",
    "        print(\"I am a\", msg)\n",
    "        print(\"Come to me around\")\n",
    "    return sub_gretings()"
   ]
  },
  {
   "cell_type": "code",
   "execution_count": 22,
   "id": "7e417dc7-b4c2-4c43-85dd-3a0e78d1405e",
   "metadata": {},
   "outputs": [
    {
     "name": "stdout",
     "output_type": "stream",
     "text": [
      "I am Akshat Raj.\n",
      "I am a гомосексуал\n",
      "Come to me around\n"
     ]
    }
   ],
   "source": [
    "Greetings(\"гомосексуал\")"
   ]
  },
  {
   "cell_type": "markdown",
   "id": "76ecf9ff-7dd6-45aa-95ce-e59261c06211",
   "metadata": {},
   "source": [
    "### Closures and Intial Decorators"
   ]
  },
  {
   "cell_type": "code",
   "execution_count": 23,
   "id": "2da2774a-09d7-48bd-bab1-7bc078802979",
   "metadata": {},
   "outputs": [],
   "source": [
    "def Greetings(func):\n",
    "\n",
    "    def sub_gretings():\n",
    "        print(\"I am Akshat Raj.\")\n",
    "        print(func([45,7,23,56,1]))\n",
    "        print(\"Come to me around\")\n",
    "\n",
    "    return sub_gretings()"
   ]
  },
  {
   "cell_type": "code",
   "execution_count": 24,
   "id": "6a124ee8-23a7-44a4-b78b-244d1f402330",
   "metadata": {},
   "outputs": [
    {
     "name": "stdout",
     "output_type": "stream",
     "text": [
      "I am Akshat Raj.\n",
      "5\n",
      "Come to me around\n"
     ]
    }
   ],
   "source": [
    "Greetings(len)"
   ]
  },
  {
   "cell_type": "code",
   "execution_count": 25,
   "id": "f12b2f10-87a9-4050-bc69-514264087c71",
   "metadata": {},
   "outputs": [
    {
     "name": "stdout",
     "output_type": "stream",
     "text": [
      "I am Akshat Raj.\n",
      "[45, 7, 23, 56, 1]\n",
      "None\n",
      "Come to me around\n"
     ]
    }
   ],
   "source": [
    "Greetings(print)"
   ]
  },
  {
   "cell_type": "code",
   "execution_count": 26,
   "id": "52e48103-ce74-4f47-aa9c-203b32be0a0a",
   "metadata": {},
   "outputs": [
    {
     "name": "stdout",
     "output_type": "stream",
     "text": [
      "I am Akshat Raj.\n"
     ]
    },
    {
     "ename": "TypeError",
     "evalue": "'str' object is not callable",
     "output_type": "error",
     "traceback": [
      "\u001b[1;31m---------------------------------------------------------------------------\u001b[0m",
      "\u001b[1;31mTypeError\u001b[0m                                 Traceback (most recent call last)",
      "Cell \u001b[1;32mIn[26], line 1\u001b[0m\n\u001b[1;32m----> 1\u001b[0m \u001b[43mGreetings\u001b[49m\u001b[43m(\u001b[49m\u001b[38;5;124;43m'\u001b[39;49m\u001b[38;5;124;43mreturn\u001b[39;49m\u001b[38;5;124;43m'\u001b[39;49m\u001b[43m)\u001b[49m\n",
      "Cell \u001b[1;32mIn[23], line 8\u001b[0m, in \u001b[0;36mGreetings\u001b[1;34m(func)\u001b[0m\n\u001b[0;32m      5\u001b[0m     \u001b[38;5;28mprint\u001b[39m(func([\u001b[38;5;241m45\u001b[39m,\u001b[38;5;241m7\u001b[39m,\u001b[38;5;241m23\u001b[39m,\u001b[38;5;241m56\u001b[39m,\u001b[38;5;241m1\u001b[39m]))\n\u001b[0;32m      6\u001b[0m     \u001b[38;5;28mprint\u001b[39m(\u001b[38;5;124m\"\u001b[39m\u001b[38;5;124mCome to me around\u001b[39m\u001b[38;5;124m\"\u001b[39m)\n\u001b[1;32m----> 8\u001b[0m \u001b[38;5;28;01mreturn\u001b[39;00m \u001b[43msub_gretings\u001b[49m\u001b[43m(\u001b[49m\u001b[43m)\u001b[49m\n",
      "Cell \u001b[1;32mIn[23], line 5\u001b[0m, in \u001b[0;36mGreetings.<locals>.sub_gretings\u001b[1;34m()\u001b[0m\n\u001b[0;32m      3\u001b[0m \u001b[38;5;28;01mdef\u001b[39;00m \u001b[38;5;21msub_gretings\u001b[39m():\n\u001b[0;32m      4\u001b[0m     \u001b[38;5;28mprint\u001b[39m(\u001b[38;5;124m\"\u001b[39m\u001b[38;5;124mI am Akshat Raj.\u001b[39m\u001b[38;5;124m\"\u001b[39m)\n\u001b[1;32m----> 5\u001b[0m     \u001b[38;5;28mprint\u001b[39m(\u001b[43mfunc\u001b[49m\u001b[43m(\u001b[49m\u001b[43m[\u001b[49m\u001b[38;5;241;43m45\u001b[39;49m\u001b[43m,\u001b[49m\u001b[38;5;241;43m7\u001b[39;49m\u001b[43m,\u001b[49m\u001b[38;5;241;43m23\u001b[39;49m\u001b[43m,\u001b[49m\u001b[38;5;241;43m56\u001b[39;49m\u001b[43m,\u001b[49m\u001b[38;5;241;43m1\u001b[39;49m\u001b[43m]\u001b[49m\u001b[43m)\u001b[49m)\n\u001b[0;32m      6\u001b[0m     \u001b[38;5;28mprint\u001b[39m(\u001b[38;5;124m\"\u001b[39m\u001b[38;5;124mCome to me around\u001b[39m\u001b[38;5;124m\"\u001b[39m)\n",
      "\u001b[1;31mTypeError\u001b[0m: 'str' object is not callable"
     ]
    }
   ],
   "source": [
    "Greetings('return')"
   ]
  },
  {
   "cell_type": "markdown",
   "id": "5428f38b-9d99-4d9b-a1fe-b56992f9ca2e",
   "metadata": {},
   "source": [
    "#### Decorators"
   ]
  },
  {
   "cell_type": "code",
   "execution_count": 27,
   "id": "b8caffc8-f941-4958-b813-1696549d1973",
   "metadata": {},
   "outputs": [],
   "source": [
    "def Greetings(func):\n",
    "\n",
    "    def sub_gretings():\n",
    "        print(\"I am Akshat Raj.\")\n",
    "        func()\n",
    "        print(\"Come to me around\")\n",
    "\n",
    "    return sub_gretings()"
   ]
  },
  {
   "cell_type": "code",
   "execution_count": 28,
   "id": "e9e05d30-1682-4772-b78d-3ae2d8dd3c0a",
   "metadata": {},
   "outputs": [
    {
     "name": "stdout",
     "output_type": "stream",
     "text": [
      "I am Akshat Raj.\n",
      "Его имя Амогсидх\n",
      "Come to me around\n"
     ]
    }
   ],
   "source": [
    "def Greetings(func):\n",
    "\n",
    "    def sub_gretings():\n",
    "        print(\"I am Akshat Raj.\")\n",
    "        func()\n",
    "        print(\"Come to me around\")\n",
    "\n",
    "    return sub_gretings()\n",
    "\n",
    "@Greetings\n",
    "def Attractions():\n",
    "    print(\"Его имя Амогсидх\")"
   ]
  },
  {
   "cell_type": "code",
   "execution_count": null,
   "id": "65cfe3f5-5a24-488c-8dd1-0bfbc70b5fb2",
   "metadata": {},
   "outputs": [],
   "source": []
  }
 ],
 "metadata": {
  "kernelspec": {
   "display_name": "Python 3 (ipykernel)",
   "language": "python",
   "name": "python3"
  },
  "language_info": {
   "codemirror_mode": {
    "name": "ipython",
    "version": 3
   },
   "file_extension": ".py",
   "mimetype": "text/x-python",
   "name": "python",
   "nbconvert_exporter": "python",
   "pygments_lexer": "ipython3",
   "version": "3.11.5"
  }
 },
 "nbformat": 4,
 "nbformat_minor": 5
}
